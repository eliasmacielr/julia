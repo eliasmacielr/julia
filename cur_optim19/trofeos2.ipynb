{
 "cells": [
  {
   "cell_type": "code",
   "execution_count": 1,
   "metadata": {},
   "outputs": [],
   "source": [
    "\n",
    "\n",
    "# the types of trophies produced\n",
    "sports = [:football, :soccer]\n",
    "\n",
    "# wood required for each type of trophy (in board feet)\n",
    "wood   = Dict( :football => 4, :soccer => 2)\n",
    "\n",
    "# plaques required for each type of trophy\n",
    "plaques = Dict( :football => 1, :soccer => 1)\n",
    "\n",
    "# profit made for each trophy\n",
    "profit = Dict( :football => 12, :soccer => 9)\n",
    "\n",
    "# quantities in stock for each ingredient\n",
    "num_wood     = 4800\n",
    "num_plaques  = 1750\n",
    "num_football = 1000\n",
    "num_soccer   = 1500\n",
    ";\n",
    "\n"
   ]
  },
  {
   "cell_type": "code",
   "execution_count": 2,
   "metadata": {},
   "outputs": [
    {
     "name": "stdout",
     "output_type": "stream",
     "text": [
      "sports=Symbol[:football, :soccer]\n",
      "wood=Dict(:football=>4,:soccer=>2)\n",
      "plaques=Dict(:football=>1,:soccer=>1)\n",
      "profit=Dict(:football=>12,:soccer=>9)\n"
     ]
    }
   ],
   "source": [
    "println(\"sports=\", sports)\n",
    "println(\"wood=\", wood)\n",
    "println(\"plaques=\", plaques)\n",
    "println(\"profit=\", profit)\n"
   ]
  },
  {
   "cell_type": "code",
   "execution_count": 3,
   "metadata": {},
   "outputs": [
    {
     "name": "stdout",
     "output_type": "stream",
     "text": [
      "Max 12 trophies[football] + 9 trophies[soccer]\n",
      "Subject to\n",
      " trophies[football] ≥ 0.0\n",
      " trophies[soccer] ≥ 0.0\n",
      " trophies[soccer] ≤ 1500.0\n",
      " trophies[football] ≤ 1000.0\n",
      " trophies[football] + trophies[soccer] ≤ 1750.0\n",
      " 4 trophies[football] + 2 trophies[soccer] ≤ 4800.0\n",
      "\n",
      "Total profit will be $17700.0\n",
      "Total wood used is 4800.0 feets\n",
      "Total number of plaques used is 1750.0\n",
      " football = 650.0\n",
      " soccer = 1100.0\n",
      "\n",
      "Coin0506I Presolve 2 (-2) rows, 2 (0) columns and 4 (-2) elements\n",
      "Clp0006I 0  Obj -0 Dual inf 20.999998 (2)\n",
      "Clp0006I 2  Obj 17700\n",
      "Clp0000I Optimal - objective value 17700\n",
      "Coin0511I After Postsolve, objective 17700, infeasibilities - dual 0 (0), primal 0 (0)\n",
      "Clp0032I Optimal objective 17700 - 2 iterations time 0.002, Presolve 0.00\n"
     ]
    }
   ],
   "source": [
    "using JuMP, Clp\n",
    "m = Model(with_optimizer(Clp.Optimizer))\n",
    "\n",
    "@variable(m, trophies[sports] >= 0 )    # \"trophies\" is a dictionary indexed over sports\n",
    "\n",
    "@expression(m, tot_plaques, sum(trophies[i] * plaques[i] for i in sports) )\n",
    "@expression(m, tot_wood,    sum(trophies[i] * wood[i]    for i in sports) )\n",
    "@expression(m, tot_profit,  sum(trophies[i] * profit[i]  for i in sports) )\n",
    "\n",
    "@constraint(m, trophies[:soccer] <= num_soccer )      # maximum number of soccer balls\n",
    "@constraint(m, trophies[:football] <= num_football )  # maximum number of footballs\n",
    "@constraint(m, tot_plaques <= num_plaques )           # maximum number of plaques\n",
    "@constraint(m, tot_wood    <= num_wood )              # maximum amount of wood\n",
    "\n",
    "@objective(m, Max, tot_profit)\n",
    "\n",
    "print(m)\n",
    "JuMP.optimize!(m)\n",
    "\n",
    "obj_value=JuMP.objective_value(m)\n",
    "\n",
    "println(\"\")\n",
    "println(\"Total profit will be \\$\", obj_value)\n",
    "println(\"Total wood used is \", JuMP.value(tot_wood), \" feets\")\n",
    "println(\"Total number of plaques used is \", JuMP.value(tot_plaques))\n",
    "#println(\"Variable football AM=\",JuMP.value(trophies[:football]))\n",
    "#println(\"Variable soccer=\",JuMP.value(trophies[:soccer]))\n",
    "\n",
    "for deporte in sports\n",
    "    println(\" $(deporte) = $(JuMP.value(trophies[deporte]))\")\n",
    "end\n",
    "println(\"\")"
   ]
  }
 ],
 "metadata": {
  "kernelspec": {
   "display_name": "Julia 1.1.1",
   "language": "julia",
   "name": "julia-1.1"
  },
  "language_info": {
   "file_extension": ".jl",
   "mimetype": "application/julia",
   "name": "julia",
   "version": "1.1.1"
  }
 },
 "nbformat": 4,
 "nbformat_minor": 2
}
