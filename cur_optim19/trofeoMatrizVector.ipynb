{
 "cells": [
  {
   "cell_type": "code",
   "execution_count": 1,
   "metadata": {},
   "outputs": [
    {
     "name": "stdout",
     "output_type": "stream",
     "text": [
      "Max 12 x[1] + 9 x[2]\n",
      "Subject to\n",
      " 4 x[1] + 2 x[2] ≤ 4800.0\n",
      " x[1] + x[2] ≤ 1750.0\n",
      " x[1] ∈ [0.0, 1000.0]\n",
      " x[2] ∈ [0.0, 1500.0]\n",
      "Valor func objetivo, Ganancia=17700.0\n",
      " x[1] = 650.0\n",
      " x[2] = 1100.0\n",
      "\n",
      "Coin0506I Presolve 2 (-2) rows, 2 (-2) columns and 4 (-4) elements\n",
      "Clp0006I 0  Obj -0 Dual inf 20.999998 (2)\n",
      "Clp0006I 2  Obj 17700\n",
      "Clp0000I Optimal - objective value 17700\n",
      "Coin0511I After Postsolve, objective 17700, infeasibilities - dual 0 (0), primal 0 (0)\n",
      "Clp0032I Optimal objective 17700 - 2 iterations time 0.002, Presolve 0.00\n"
     ]
    }
   ],
   "source": [
    "using JuMP, Clp, LinearAlgebra\n",
    "\n",
    "m = Model(with_optimizer(Clp.Optimizer))\n",
    "\n",
    "cero=[0;\n",
    "      0] \n",
    "cotaSup=[1000;\n",
    "        1500]\n",
    "\n",
    "A=[ 4 2;\n",
    "    1 1]\n",
    "b=[4800;    \n",
    "  1750]\n",
    "gananciaPorUnidad=[12;\n",
    "    9]\n",
    "#println( \"prodPunto=\",dot(b, cotaSup))\n",
    "#println(\"A\",A)\n",
    "#println(\"b\",b)\n",
    "#println(\"gananciaPorUnidad=\",gananciaPorUnidad)\n",
    "\n",
    "@variable(m, x[1:2] )  \n",
    "@constraint(m, A*x .<= b)          \n",
    "@constraint(m, cero .<= x .<= cotaSup)  \n",
    "@objective(m, Max, dot(gananciaPorUnidad,x))  \n",
    "\n",
    "\n",
    "print(m)\n",
    "JuMP.optimize!(m)\n",
    "obj_value=JuMP.objective_value(m)\n",
    "\n",
    "\n",
    "println(\"Valor func objetivo, Ganancia=\", obj_value)\n",
    "\n",
    "for i in 1:2\n",
    "    println(\" x[$(i)] = $(JuMP.value(x[i]))\")\n",
    "end\n",
    "println(\"\")"
   ]
  }
 ],
 "metadata": {
  "kernelspec": {
   "display_name": "Julia 1.1.1",
   "language": "julia",
   "name": "julia-1.1"
  },
  "language_info": {
   "file_extension": ".jl",
   "mimetype": "application/julia",
   "name": "julia",
   "version": "1.1.1"
  }
 },
 "nbformat": 4,
 "nbformat_minor": 2
}
