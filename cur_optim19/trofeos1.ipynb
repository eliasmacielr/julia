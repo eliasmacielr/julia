{
 "cells": [
  {
   "cell_type": "code",
   "execution_count": 1,
   "metadata": {},
   "outputs": [
    {
     "name": "stdout",
     "output_type": "stream",
     "text": [
      "Max 12 f + 9 s\n",
      "Subject to\n",
      " f ≥ 0.0\n",
      " s ≥ 0.0\n",
      " f ≤ 1000.0\n",
      " s ≤ 1500.0\n",
      " 4 f + 2 s ≤ 4800.0\n",
      " f + s ≤ 1750.0\n",
      "Valor func objetivo, Ganancia=17700.0\n",
      "Trofeo futbol AM =650.0\n",
      "Trofeo futbol    =1100.0\n",
      "Coin0506I Presolve 2 (0) rows, 2 (0) columns and 4 (0) elements\n",
      "Clp0006I 0  Obj -0 Dual inf 21 (2)\n",
      "Clp0006I 2  Obj 17700\n",
      "Clp0000I Optimal - objective value 17700\n",
      "Clp0032I Optimal objective 17700 - 2 iterations time 0.002\n"
     ]
    }
   ],
   "source": [
    "using JuMP, Clp\n",
    "\n",
    "m = Model(with_optimizer(Clp.Optimizer))\n",
    "\n",
    "@variables(m, begin \n",
    "        0 <= f <= 1000            # trofeos de futbol americano\n",
    "        0 <= s <= 1500            # trofeos de futbol de campo\n",
    "end)  \n",
    "\n",
    "@constraint(m, 4*f + 2*s <= 4800)        # nro total de pies de madera\n",
    "@constraint(m, f + s <= 1750)          # nro total de placas\n",
    "@objective(m, Max, 12*f + 9*s)           # max ganancia\n",
    "\n",
    "print(m)\n",
    "JuMP.optimize!(m)\n",
    "\n",
    "obj_value=JuMP.objective_value(m)\n",
    "f_trofeo=JuMP.value(f)\n",
    "s_trofeo=JuMP.value(s)\n",
    "\n",
    "println(\"Valor func objetivo, Ganancia=\", obj_value)\n",
    "println(\"Trofeo futbol AM =\", f_trofeo)\n",
    "println(\"Trofeo futbol    =\", s_trofeo)\n"
   ]
  }
 ],
 "metadata": {
  "kernelspec": {
   "display_name": "Julia 1.1.1",
   "language": "julia",
   "name": "julia-1.1"
  },
  "language_info": {
   "file_extension": ".jl",
   "mimetype": "application/julia",
   "name": "julia",
   "version": "1.1.1"
  }
 },
 "nbformat": 4,
 "nbformat_minor": 2
}
