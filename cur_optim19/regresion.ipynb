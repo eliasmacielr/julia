{
 "cells": [
  {
   "cell_type": "markdown",
   "metadata": {},
   "source": [
    "# Polynomial regression"
   ]
  },
  {
   "cell_type": "code",
   "execution_count": null,
   "metadata": {},
   "outputs": [],
   "source": []
  },
  {
   "cell_type": "code",
   "execution_count": 1,
   "metadata": {},
   "outputs": [
    {
     "data": {
      "image/png": "[encoded data removed]",
      "text/plain": [
       "Figure(PyObject <Figure size 800x400 with 1 Axes>)"
      ]
     },
     "metadata": {},
     "output_type": "display_data"
    }
   ],
   "source": [
    "# define (x,y) coordinates of the points\n",
    "x = [ 1, 2, 3, 4, 5, 6, 7, 8, 9 ]\n",
    "y = [ 1, 3, 0, 1, 2, 4, 6, 7, 5 ]\n",
    "\n",
    "using PyPlot\n",
    "figure(figsize=(8,4))\n",
    "plot(x,y,\"r.\", markersize=10)\n",
    "axis([0,10,-2,8])\n",
    "grid(\"on\")"
   ]
  },
  {
   "cell_type": "code",
   "execution_count": 3,
   "metadata": {},
   "outputs": [],
   "source": [
    "# order of polynomial to use\n",
    "k = 3\n",
    "\n",
    "# fit using a function of the form f(x) = u1 x^k + u2 x^(k-1) + ... + uk x + u{k+1}\n",
    "n = length(x)\n",
    "A = zeros(n,k+1)\n",
    "for i = 1:n\n",
    "    for j = 1:k+1\n",
    "        A[i,j] = x[i]^(k+1-j)\n",
    "    end\n",
    "end"
   ]
  },
  {
   "cell_type": "code",
   "execution_count": 10,
   "metadata": {},
   "outputs": [
    {
     "name": "stdout",
     "output_type": "stream",
     "text": [
      "\u001b[32m\u001b[1m  Updating\u001b[22m\u001b[39m registry at `~/.julia/registries/General`\n",
      "\u001b[32m\u001b[1m  Updating\u001b[22m\u001b[39m git-repo `https://github.com/JuliaRegistries/General.git`\n",
      "\u001b[?25l\u001b[2K\u001b[?25h\u001b[32m\u001b[1m Resolving\u001b[22m\u001b[39m package versions...\n",
      "\u001b[32m\u001b[1m Installed\u001b[22m\u001b[39m SCS ─ v0.5.1\n",
      "\u001b[32m\u001b[1m  Updating\u001b[22m\u001b[39m `~/.julia/environments/v1.1/Project.toml`\n",
      " \u001b[90m [c946c3f1]\u001b[39m\u001b[92m + SCS v0.5.1\u001b[39m\n",
      "\u001b[32m\u001b[1m  Updating\u001b[22m\u001b[39m `~/.julia/environments/v1.1/Manifest.toml`\n",
      " \u001b[90m [c946c3f1]\u001b[39m\u001b[92m + SCS v0.5.1\u001b[39m\n",
      "\u001b[32m\u001b[1m  Building\u001b[22m\u001b[39m SCS → `~/.julia/packages/SCS/L1XbN/deps/build.log`\n"
     ]
    }
   ],
   "source": [
    "using Pkg\n",
    "Pkg.add(\"SCS\")"
   ]
  },
  {
   "cell_type": "code",
   "execution_count": 28,
   "metadata": {},
   "outputs": [
    {
     "name": "stdout",
     "output_type": "stream",
     "text": [
      "Min 978405 u[1]² + 241650 u[2]*u[1] + 30666 u[3]*u[1] + 4050 u[4]*u[1] + 15333 u[2]² + 4050 u[3]*u[2] + 570 u[4]*u[2] + 285 u[3]² + 90 u[4]*u[3] + 9 u[4]² - 20980 u[1] - 2740 u[2] - 376 u[3] - 58 u[4] + 141\n",
      "Subject to\n",
      "This is Ipopt version 3.12.10, running with linear solver mumps.\n",
      "NOTE: Other linear solvers might be more efficient (see Ipopt documentation).\n",
      "\n",
      "Number of nonzeros in equality constraint Jacobian...:        0\n",
      "Number of nonzeros in inequality constraint Jacobian.:        0\n",
      "Number of nonzeros in Lagrangian Hessian.............:       10\n",
      "\n",
      "Total number of variables............................:        4\n",
      "                     variables with only lower bounds:        0\n",
      "                variables with lower and upper bounds:        0\n",
      "                     variables with only upper bounds:        0\n",
      "Total number of equality constraints.................:        0\n",
      "Total number of inequality constraints...............:        0\n",
      "        inequality constraints with only lower bounds:        0\n",
      "   inequality constraints with lower and upper bounds:        0\n",
      "        inequality constraints with only upper bounds:        0\n",
      "\n",
      "iter    objective    inf_pr   inf_du lg(mu)  ||d||  lg(rg) alpha_du alpha_pr  ls\n",
      "   0  1.4100000e+02 0.00e+00 1.00e+02  -1.0 0.00e+00    -  0.00e+00 0.00e+00   0\n",
      "   1  9.2258297e+00 0.00e+00 1.21e-13  -1.0 5.21e+00    -  1.00e+00 1.00e+00f  1\n",
      "\n",
      "Number of Iterations....: 1\n",
      "\n",
      "                                   (scaled)                 (unscaled)\n",
      "Objective...............:   4.3974402887640193e-02    9.2258297258269124e+00\n",
      "Dual infeasibility......:   1.2138156172374638e-13    2.5465851649641987e-11\n",
      "Constraint violation....:   0.0000000000000000e+00    0.0000000000000000e+00\n",
      "Complementarity.........:   0.0000000000000000e+00    0.0000000000000000e+00\n",
      "Overall NLP error.......:   1.2138156172374638e-13    2.5465851649641987e-11\n",
      "\n",
      "\n",
      "Number of objective function evaluations             = 2\n",
      "Number of objective gradient evaluations             = 2\n",
      "Number of equality constraint evaluations            = 0\n",
      "Number of inequality constraint evaluations          = 0\n",
      "Number of equality constraint Jacobian evaluations   = 0\n",
      "Number of inequality constraint Jacobian evaluations = 0\n",
      "Number of Lagrangian Hessian evaluations             = 1\n",
      "Total CPU secs in IPOPT (w/o function evaluations)   =      0.001\n",
      "Total CPU secs in NLP function evaluations           =      0.000\n",
      "\n",
      "EXIT: Optimal Solution Found.\n",
      "Valor func objetivo=9.225829725826912\n",
      " u[1] = -0.06481481481485069\n",
      " u[2] = 1.042568542569101\n",
      " u[3] = -4.083092833095312\n",
      " u[4] = 5.206349206351991\n",
      "\n"
     ]
    }
   ],
   "source": [
    "# NOTE: must have either Gurobi or Mosek installed!\n",
    "\n",
    "using JuMP, Ipopt\n",
    "#using JuMP, ECOS\n",
    "#using JuMP, SCS\n",
    "m = Model(with_optimizer(Ipopt.Optimizer))\n",
    "#m = Model(solver=MosekSolver(LOG=0))\n",
    "#m = Model(solver=GurobiSolver(OutputFlag=0))\n",
    "#m = Model(solver=GurobiSolver(OutputFlag=1,NumericFocus=2))    # extra option to do extra numerical conditioning\n",
    "#m = Model(solver=GurobiSolver(OutputFlag=1,BarHomogeneous=1))  # extra option to use alternative algorithms\n",
    "\n",
    "@variable(m, u[1:k+1])\n",
    "@objective(m, Min, sum( (y - A*u).^2 ) )\n",
    "\n",
    "print(m)\n",
    "JuMP.optimize!(m)\n",
    "\n",
    "obj_value=JuMP.objective_value(m)\n",
    "println(\"Valor func objetivo=\", obj_value)\n",
    "\n",
    "uopt=zeros(4,1)\n",
    "for i in 1:4\n",
    "    println(\" u[$(i)] = $(JuMP.value(u[i]))\")\n",
    "    uopt[i]=JuMP.value(u[i])\n",
    "end\n",
    "println(\"\")\n"
   ]
  },
  {
   "cell_type": "code",
   "execution_count": 29,
   "metadata": {},
   "outputs": [
    {
     "data": {
      "text/plain": [
       "4×1 Array{Float64,2}:\n",
       " -0.06481481481485069\n",
       "  1.042568542569101  \n",
       " -4.083092833095312  \n",
       "  5.206349206351991  "
      ]
     },
     "execution_count": 29,
     "metadata": {},
     "output_type": "execute_result"
    }
   ],
   "source": [
    "uopt"
   ]
  },
  {
   "cell_type": "code",
   "execution_count": 18,
   "metadata": {},
   "outputs": [
    {
     "data": {
      "text/plain": [
       "4-element Array{Float64,1}:\n",
       " -0.06481481481481666\n",
       "  1.0425685425686027 \n",
       " -4.083092833093133  \n",
       "  5.206349206349614  "
      ]
     },
     "execution_count": 18,
     "metadata": {},
     "output_type": "execute_result"
    }
   ],
   "source": [
    "inv(A'*A)*(A'*y)"
   ]
  },
  {
   "cell_type": "code",
   "execution_count": 19,
   "metadata": {},
   "outputs": [
    {
     "data": {
      "text/plain": [
       "4-element Array{Float64,1}:\n",
       " -0.06481481481481498\n",
       "  1.0425685425685456 \n",
       " -4.083092833092849  \n",
       "  5.206349206349226  "
      ]
     },
     "execution_count": 19,
     "metadata": {},
     "output_type": "execute_result"
    }
   ],
   "source": [
    "A\\y"
   ]
  },
  {
   "cell_type": "code",
   "execution_count": 30,
   "metadata": {
    "scrolled": false
   },
   "outputs": [
    {
     "data": {
      "image/png": "[encoded data removed]",
      "text/plain": [
       "Figure(PyObject <Figure size 800x400 with 1 Axes>)"
      ]
     },
     "metadata": {},
     "output_type": "display_data"
    }
   ],
   "source": [
    "using PyPlot\n",
    "npts = 100\n",
    "xfine = LinRange(0,10,npts)\n",
    "ffine = ones(npts)\n",
    "for j = 1:k\n",
    "    ffine = [ffine.*xfine ones(npts)]\n",
    "end\n",
    "yfine = ffine * uopt\n",
    "figure(figsize=(8,4))\n",
    "plot( x, y, \"r.\", markersize=10)\n",
    "plot( xfine, yfine, \"b-\")\n",
    "axis([0,10,-2,8])\n",
    "grid()"
   ]
  },
  {
   "cell_type": "code",
   "execution_count": 36,
   "metadata": {},
   "outputs": [
    {
     "name": "stdout",
     "output_type": "stream",
     "text": [
      "Min t\n",
      "Subject to\n",
      " [t, -u[1] - u[2] - u[3] - u[4] + 1, -8 u[1] - 4 u[2] - 2 u[3] - u[4] + 3, -27 u[1] - 9 u[2] - 3 u[3] - u[4], -64 u[1] - 16 u[2] - 4 u[3] - u[4] + 1, -125 u[1] - 25 u[2] - 5 u[3] - u[4] + 2, -216 u[1] - 36 u[2] - 6 u[3] - u[4] + 4, -343 u[1] - 49 u[2] - 7 u[3] - u[4] + 6, -512 u[1] - 64 u[2] - 8 u[3] - u[4] + 7, -729 u[1] - 81 u[2] - 9 u[3] - u[4] + 5] ∈ MathOptInterface.SecondOrderCone(10)\n",
      "Valor func objetivo=3.037405102302786\n",
      " u[1] = -0.06481481562187193\n",
      " u[2] = 1.0425685520816543\n",
      " u[3] = -4.083092859468906\n",
      " u[4] = 5.206349203734757\n",
      "\n",
      "----------------------------------------------------------------------------\n",
      "\tSCS v2.0.2 - Splitting Conic Solver\n",
      "\t(c) Brendan O'Donoghue, Stanford University, 2012-2017\n",
      "----------------------------------------------------------------------------\n",
      "Lin-sys: sparse-indirect, nnz in A = 37, CG tol ~ 1/iter^(2.00)\n",
      "eps = 1.00e-05, alpha = 1.50, max_iters = 5000, normalize = 1, scale = 1.00\n",
      "acceleration_lookback = 20, rho_x = 1.00e-03\n",
      "Variables n = 5, constraints m = 10\n",
      "Cones:\tsoc vars: 10, soc blks: 1\n",
      "Setup time: 4.12e-05s\n",
      "----------------------------------------------------------------------------\n",
      " Iter | pri res | dua res | rel gap | pri obj | dua obj | kap/tau | time (s)\n",
      "----------------------------------------------------------------------------\n",
      "     0| 2.43e+00  5.74e+00  9.69e-01 -2.24e+01  9.01e+00  5.10e-15  2.73e-05 \n",
      "   100| 5.21e-08  3.07e-05  4.12e-08  3.04e+00  3.04e+00  1.29e-15  2.98e-04 \n",
      "   140| 3.59e-09  1.55e-06  4.68e-09  3.04e+00  3.04e+00  2.58e-15  3.95e-04 \n",
      "----------------------------------------------------------------------------\n",
      "Status: Solved\n",
      "Timing: Solve time: 3.97e-04s\n",
      "\tLin-sys: avg # CG iterations: 1.71, avg solve time: 6.04e-07s\n",
      "\tCones: avg projection time: 7.07e-08s\n",
      "\tAcceleration: avg step time: 1.49e-06s\n",
      "----------------------------------------------------------------------------\n",
      "Error metrics:\n",
      "dist(s, K) = 2.2204e-16, dist(y, K*) = 0.0000e+00, s'y/|s||y| = -1.2793e-16\n",
      "primal res: |Ax + s - b|_2 / (1 + |b|_2) = 3.5871e-09\n",
      "dual res:   |A'y + c|_2 / (1 + |c|_2) = 1.5454e-06\n",
      "rel gap:    |c'x + b'y| / (1 + |c'x| + |b'y|) = 4.6760e-09\n",
      "----------------------------------------------------------------------------\n",
      "c'x = 3.0374, -b'y = 3.0374\n",
      "============================================================================\n"
     ]
    }
   ],
   "source": [
    "# NOTE: problem can be solved using ECOS or SCS if written as an \"SOCP\" --- more on this later!\n",
    "# Here is a working example:\n",
    "\n",
    "using JuMP, ECOS, SCS, LinearAlgebra\n",
    "\n",
    "m = Model(with_optimizer(SCS.Optimizer))\n",
    "\n",
    "@variable(m, u[1:k+1])\n",
    "@variable(m, t)\n",
    "#@constraint(m, norm(y - A*u) <= t)\n",
    "@constraint(m, [t; y - A*u] in SecondOrderCone())\n",
    "@objective(m, Min, t)\n",
    "\n",
    "print(m)\n",
    "JuMP.optimize!(m)\n",
    "\n",
    "obj_value=JuMP.objective_value(m)\n",
    "println(\"Valor func objetivo=\", obj_value)\n",
    "\n",
    "uopt=zeros(4,1)\n",
    "for i in 1:4\n",
    "    println(\" u[$(i)] = $(JuMP.value(u[i]))\")\n",
    "    uopt[i]=JuMP.value(u[i])\n",
    "end\n",
    "println(\"\")"
   ]
  },
  {
   "cell_type": "code",
   "execution_count": null,
   "metadata": {
    "collapsed": true
   },
   "outputs": [],
   "source": []
  }
 ],
 "metadata": {
  "kernelspec": {
   "display_name": "Julia 1.1.1",
   "language": "julia",
   "name": "julia-1.1"
  },
  "language_info": {
   "file_extension": ".jl",
   "mimetype": "application/julia",
   "name": "julia",
   "version": "1.1.1"
  }
 },
 "nbformat": 4,
 "nbformat_minor": 1
}
