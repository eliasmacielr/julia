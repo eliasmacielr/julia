{
 "cells": [
  {
   "cell_type": "code",
   "execution_count": 10,
   "metadata": {},
   "outputs": [
    {
     "name": "stdout",
     "output_type": "stream",
     "text": [
      "Max 12 f + 9 s\n",
      "Subject to\n",
      " f ≥ 0.0\n",
      " s ≥ 0.0\n",
      " 4 f + 2 s ≤ 4800.0\n",
      " f + s ≤ 1750.0\n",
      " f ≤ 1000.0\n",
      " s ≤ 1500.0\n",
      "Valor func objetivo, Ganancia=17700.0\n",
      "Trofeo futbol AM =650.0\n",
      "Trofeo futbol    =1100.0\n",
      "\n",
      "Dual Madera   =-1.5, shadow=1.5\n",
      "Dual Plaqueta =-6.0, shadow=6.0\n",
      "Dual F Amer   =0.0, shadow=-0.0\n",
      "Dual Futbol   =0.0, shadow=-0.0\n",
      "\n",
      "Coin0506I Presolve 2 (-2) rows, 2 (0) columns and 4 (-2) elements\n",
      "Clp0006I 0  Obj -0 Dual inf 20.999998 (2)\n",
      "Clp0006I 2  Obj 17700\n",
      "Clp0000I Optimal - objective value 17700\n",
      "Coin0511I After Postsolve, objective 17700, infeasibilities - dual 0 (0), primal 0 (0)\n",
      "Clp0032I Optimal objective 17700 - 2 iterations time 0.002, Presolve 0.00\n"
     ]
    }
   ],
   "source": [
    "using JuMP, Clp\n",
    "\n",
    "m = Model(with_optimizer(Clp.Optimizer))\n",
    "\n",
    "@variable(m, f>=0 )\n",
    "@variable(m, s>=0 )\n",
    "\n",
    "@constraint(m, cMade, 4*f + 2*s <= 4800)  # nro total de pies de madera\n",
    "@constraint(m, cPlaq, f + s <= 1750)      # nro total de placas\n",
    "@constraint(m, cAme, f <= 1000)           # trofeos de futbol americano\n",
    "@constraint(m, cFut, s <= 1500)           # trofeos de futbol de campo\n",
    "@objective(m, Max, 12*f + 9*s)            # max ganancia\n",
    "\n",
    "print(m)\n",
    "JuMP.optimize!(m)\n",
    "\n",
    "obj_value=JuMP.objective_value(m)\n",
    "f_trofeo=JuMP.value(f)\n",
    "s_trofeo=JuMP.value(s)\n",
    "\n",
    "println(\"Valor func objetivo, Ganancia=\", obj_value)\n",
    "println(\"Trofeo futbol AM =\", f_trofeo)\n",
    "println(\"Trofeo futbol    =\", s_trofeo)\n",
    "\n",
    "JuMP.has_duals(m)\n",
    "\n",
    "println(\"\")\n",
    "println(\"Dual Madera   =\", JuMP.dual(cMade), \", shadow=\", shadow_price(cMade))\n",
    "println(\"Dual Plaqueta =\", JuMP.dual(cPlaq), \", shadow=\", shadow_price(cPlaq))\n",
    "println(\"Dual F Amer   =\", JuMP.dual(cAme),  \", shadow=\", shadow_price(cAme))\n",
    "println(\"Dual Futbol   =\", JuMP.dual(cFut),  \", shadow=\", shadow_price(cFut))\n",
    "println(\"\")\n"
   ]
  },
  {
   "cell_type": "code",
   "execution_count": 13,
   "metadata": {},
   "outputs": [
    {
     "name": "stdout",
     "output_type": "stream",
     "text": [
      "Min 4800 λ[1] + 1750 λ[2] + 1000 λ[3] + 1500 λ[4]\n",
      "Subject to\n",
      " λ[1] ≥ 0.0\n",
      " λ[2] ≥ 0.0\n",
      " λ[3] ≥ 0.0\n",
      " λ[4] ≥ 0.0\n",
      " 4 λ[1] + λ[2] + λ[3] ≥ 12.0\n",
      " 2 λ[1] + λ[2] + λ[4] ≥ 9.0\n",
      "Valor func objetivo, Ganancia=17700.0\n",
      " λ[1] = 1.5\n",
      " λ[2] = 6.0\n",
      " λ[3] = 0.0\n",
      " λ[4] = 0.0\n",
      "\n",
      "Coin0506I Presolve 2 (0) rows, 4 (0) columns and 6 (0) elements\n",
      "Clp0006I 0  Obj 0 Primal inf 7.4999998 (2)\n",
      "Clp0006I 3  Obj 17700\n",
      "Clp0000I Optimal - objective value 17700\n",
      "Clp0032I Optimal objective 17700 - 3 iterations time 0.002\n"
     ]
    }
   ],
   "source": [
    "m2 = Model(with_optimizer(Clp.Optimizer))\n",
    "    @variable(m2, λ[1:4] >= 0)\n",
    "    @constraint(m2, 4*λ[1] + λ[2] + λ[3] >= 12)\n",
    "    @constraint(m2, 2*λ[1] + λ[2] + λ[4] >= 9)\n",
    "    @objective(m2, Min, 4800*λ[1] + 1750*λ[2] + 1000*λ[3] + 1500*λ[4])\n",
    "    \n",
    "print(m2)\n",
    "JuMP.optimize!(m2)\n",
    "obj_valueM2=JuMP.objective_value(m2)\n",
    "\n",
    "\n",
    "println(\"Valor func objetivo, Ganancia=\", obj_valueM2)\n",
    "\n",
    "for i in 1:4\n",
    "    println(\" λ[$(i)] = $(JuMP.value(λ[i]))\")\n",
    "end\n",
    "println(\"\")"
   ]
  }
 ],
 "metadata": {
  "kernelspec": {
   "display_name": "Julia 1.1.1",
   "language": "julia",
   "name": "julia-1.1"
  },
  "language_info": {
   "file_extension": ".jl",
   "mimetype": "application/julia",
   "name": "julia",
   "version": "1.1.1"
  }
 },
 "nbformat": 4,
 "nbformat_minor": 2
}
