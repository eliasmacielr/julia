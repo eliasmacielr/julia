{
 "cells": [
  {
   "cell_type": "code",
   "execution_count": 2,
   "metadata": {},
   "outputs": [],
   "source": [
    "using Statistics"
   ]
  },
  {
   "cell_type": "code",
   "execution_count": 3,
   "metadata": {},
   "outputs": [
    {
     "data": {
      "text/plain": [
       "9"
      ]
     },
     "execution_count": 3,
     "metadata": {},
     "output_type": "execute_result"
    }
   ],
   "source": [
    "\n",
    " y=[0.423017\n",
    " 0.682693\n",
    " 1.64566 \n",
    " 1.77329 \n",
    " 2.03477 \n",
    " 2.7888  \n",
    " 3.61828 \n",
    " 8.23648 \n",
    " 9.10357 \n",
    "]\n",
    "N = length(y)"
   ]
  },
  {
   "cell_type": "code",
   "execution_count": 5,
   "metadata": {},
   "outputs": [
    {
     "name": "stdout",
     "output_type": "stream",
     "text": [
      "\n",
      "******************************************************************************\n",
      "This program contains Ipopt, a library for large-scale nonlinear optimization.\n",
      " Ipopt is released as open source code under the Eclipse Public License (EPL).\n",
      "         For more information visit http://projects.coin-or.org/Ipopt\n",
      "******************************************************************************\n",
      "\n",
      "This is Ipopt version 3.12.10, running with linear solver mumps.\n",
      "NOTE: Other linear solvers might be more efficient (see Ipopt documentation).\n",
      "\n",
      "Number of nonzeros in equality constraint Jacobian...:        0\n",
      "Number of nonzeros in inequality constraint Jacobian.:        0\n",
      "Number of nonzeros in Lagrangian Hessian.............:        1\n",
      "\n",
      "Total number of variables............................:        1\n",
      "                     variables with only lower bounds:        0\n",
      "                variables with lower and upper bounds:        0\n",
      "                     variables with only upper bounds:        0\n",
      "Total number of equality constraints.................:        0\n",
      "Total number of inequality constraints...............:        0\n",
      "        inequality constraints with only lower bounds:        0\n",
      "   inequality constraints with lower and upper bounds:        0\n",
      "        inequality constraints with only upper bounds:        0\n",
      "\n",
      "iter    objective    inf_pr   inf_du lg(mu)  ||d||  lg(rg) alpha_du alpha_pr  ls\n",
      "   0  1.8222200e+02 0.00e+00 6.06e+01  -1.0 0.00e+00    -  0.00e+00 0.00e+00   0\n",
      "   1  8.0167826e+01 0.00e+00 0.00e+00  -1.0 3.37e+00    -  1.00e+00 1.00e+00f  1\n",
      "\n",
      "Number of Iterations....: 1\n",
      "\n",
      "                                   (scaled)                 (unscaled)\n",
      "Objective...............:   8.0167826012660214e+01    8.0167826012660214e+01\n",
      "Dual infeasibility......:   0.0000000000000000e+00    0.0000000000000000e+00\n",
      "Constraint violation....:   0.0000000000000000e+00    0.0000000000000000e+00\n",
      "Complementarity.........:   0.0000000000000000e+00    0.0000000000000000e+00\n",
      "Overall NLP error.......:   0.0000000000000000e+00    0.0000000000000000e+00\n",
      "\n",
      "\n",
      "Number of objective function evaluations             = 2\n",
      "Number of objective gradient evaluations             = 2\n",
      "Number of equality constraint evaluations            = 0\n",
      "Number of inequality constraint evaluations          = 0\n",
      "Number of equality constraint Jacobian evaluations   = 0\n",
      "Number of inequality constraint Jacobian evaluations = 0\n",
      "Number of Lagrangian Hessian evaluations             = 1\n",
      "Total CPU secs in IPOPT (w/o function evaluations)   =      2.075\n",
      "Total CPU secs in NLP function evaluations           =      0.602\n",
      "\n",
      "EXIT: Optimal Solution Found.\n",
      "The optimal x value is: 3.3673955555555555\n"
     ]
    }
   ],
   "source": [
    "using JuMP, Ipopt\n",
    "m = Model(with_optimizer(Ipopt.Optimizer))\n",
    "@variable(m, x)\n",
    "@objective(m, Min, sum( (y[i]-x)^2 for i=1:N) )\n",
    "\n",
    "optimize!(m)\n",
    "\n",
    "println(\"The optimal x value is: \", value(x))"
   ]
  },
  {
   "cell_type": "code",
   "execution_count": 4,
   "metadata": {},
   "outputs": [
    {
     "data": {
      "text/plain": [
       "3.3673955555555555"
      ]
     },
     "execution_count": 4,
     "metadata": {},
     "output_type": "execute_result"
    }
   ],
   "source": [
    "mean(y)"
   ]
  },
  {
   "cell_type": "code",
   "execution_count": 7,
   "metadata": {},
   "outputs": [
    {
     "name": "stdout",
     "output_type": "stream",
     "text": [
      "This is Ipopt version 3.12.10, running with linear solver mumps.\n",
      "NOTE: Other linear solvers might be more efficient (see Ipopt documentation).\n",
      "\n",
      "Number of nonzeros in equality constraint Jacobian...:        0\n",
      "Number of nonzeros in inequality constraint Jacobian.:       36\n",
      "Number of nonzeros in Lagrangian Hessian.............:        0\n",
      "\n",
      "Total number of variables............................:       10\n",
      "                     variables with only lower bounds:        0\n",
      "                variables with lower and upper bounds:        0\n",
      "                     variables with only upper bounds:        0\n",
      "Total number of equality constraints.................:        0\n",
      "Total number of inequality constraints...............:       18\n",
      "        inequality constraints with only lower bounds:        0\n",
      "   inequality constraints with lower and upper bounds:        0\n",
      "        inequality constraints with only upper bounds:       18\n",
      "\n",
      "iter    objective    inf_pr   inf_du lg(mu)  ||d||  lg(rg) alpha_du alpha_pr  ls\n",
      "   0  0.0000000e+00 9.10e+00 3.33e-01  -1.0 0.00e+00    -  0.00e+00 0.00e+00   0\n",
      "   1  5.7053448e+00 6.68e+00 3.08e-01  -1.0 8.06e+00    -  2.50e-01 2.65e-01h  1\n",
      "   2  1.0259283e+01 4.71e+00 9.26e-01  -1.0 5.69e+00    -  1.14e-01 2.92e-01h  1\n",
      "   3  1.9340829e+01 3.07e-01 7.21e-01  -1.0 3.61e+00    -  2.51e-01 9.17e-01h  1\n",
      "   4  2.0437481e+01 0.00e+00 5.02e-01  -1.0 2.84e-01    -  5.71e-01 1.00e+00h  1\n",
      "   5  2.0201878e+01 0.00e+00 1.83e-01  -1.0 4.06e-01    -  7.28e-01 1.00e+00f  1\n",
      "   6  1.9415838e+01 0.00e+00 1.07e-03  -1.7 2.25e-01    -  1.00e+00 9.95e-01f  1\n",
      "   7  1.9248696e+01 0.00e+00 2.83e-08  -2.5 9.01e-02    -  1.00e+00 1.00e+00f  1\n",
      "   8  1.9223936e+01 0.00e+00 1.50e-09  -3.8 4.98e-03    -  1.00e+00 1.00e+00f  1\n",
      "   9  1.9222488e+01 0.00e+00 1.84e-11  -5.7 4.49e-04    -  1.00e+00 1.00e+00f  1\n",
      "iter    objective    inf_pr   inf_du lg(mu)  ||d||  lg(rg) alpha_du alpha_pr  ls\n",
      "  10  1.9222470e+01 0.00e+00 2.51e-14  -8.6 4.09e-06    -  1.00e+00 1.00e+00f  1\n",
      "\n",
      "Number of Iterations....: 10\n",
      "\n",
      "                                   (scaled)                 (unscaled)\n",
      "Objective...............:   1.9222469713036674e+01    1.9222469713036674e+01\n",
      "Dual infeasibility......:   2.5091040356528538e-14    2.5091040356528538e-14\n",
      "Constraint violation....:   0.0000000000000000e+00    0.0000000000000000e+00\n",
      "Complementarity.........:   2.5258724349529763e-09    2.5258724349529763e-09\n",
      "Overall NLP error.......:   2.5258724349529763e-09    2.5258724349529763e-09\n",
      "\n",
      "\n",
      "Number of objective function evaluations             = 11\n",
      "Number of objective gradient evaluations             = 11\n",
      "Number of equality constraint evaluations            = 0\n",
      "Number of inequality constraint evaluations          = 11\n",
      "Number of equality constraint Jacobian evaluations   = 0\n",
      "Number of inequality constraint Jacobian evaluations = 1\n",
      "Number of Lagrangian Hessian evaluations             = 1\n",
      "Total CPU secs in IPOPT (w/o function evaluations)   =      0.000\n",
      "Total CPU secs in NLP function evaluations           =      0.089\n",
      "\n",
      "EXIT: Optimal Solution Found.\n",
      "The optimal x value is: 2.0347699999627538\n"
     ]
    }
   ],
   "source": [
    "\n",
    "\n",
    "# minimize the 1-norm\n",
    "using JuMP\n",
    "m = Model(with_optimizer(Ipopt.Optimizer))\n",
    "@variable(m, x)\n",
    "@variable(m, t[1:N])\n",
    "@constraint(m, y-x .<= t )\n",
    "@constraint(m, -t .<= y-x )\n",
    "@objective(m, Min, sum(t) )\n",
    "\n",
    "optimize!(m)\n",
    "\n",
    "println(\"The optimal x value is: \", value(x))\n",
    "\n"
   ]
  },
  {
   "cell_type": "code",
   "execution_count": 5,
   "metadata": {},
   "outputs": [
    {
     "data": {
      "text/plain": [
       "2.03477"
      ]
     },
     "execution_count": 5,
     "metadata": {},
     "output_type": "execute_result"
    }
   ],
   "source": [
    "median(y)"
   ]
  },
  {
   "cell_type": "code",
   "execution_count": 9,
   "metadata": {},
   "outputs": [
    {
     "name": "stdout",
     "output_type": "stream",
     "text": [
      "This is Ipopt version 3.12.10, running with linear solver mumps.\n",
      "NOTE: Other linear solvers might be more efficient (see Ipopt documentation).\n",
      "\n",
      "Number of nonzeros in equality constraint Jacobian...:        0\n",
      "Number of nonzeros in inequality constraint Jacobian.:       36\n",
      "Number of nonzeros in Lagrangian Hessian.............:        0\n",
      "\n",
      "Total number of variables............................:        2\n",
      "                     variables with only lower bounds:        0\n",
      "                variables with lower and upper bounds:        0\n",
      "                     variables with only upper bounds:        0\n",
      "Total number of equality constraints.................:        0\n",
      "Total number of inequality constraints...............:       18\n",
      "        inequality constraints with only lower bounds:        0\n",
      "   inequality constraints with lower and upper bounds:        0\n",
      "        inequality constraints with only upper bounds:       18\n",
      "\n",
      "iter    objective    inf_pr   inf_du lg(mu)  ||d||  lg(rg) alpha_du alpha_pr  ls\n",
      "   0  0.0000000e+00 9.10e+00 8.95e-01  -1.0 0.00e+00    -  0.00e+00 0.00e+00   0\n",
      "   1  1.1934916e-02 9.08e+00 1.61e+00  -1.0 7.29e+00    -  7.15e-03 1.24e-02h  1\n",
      "   2  1.5779329e-02 9.07e+00 4.11e+00  -1.0 7.70e+00    -  3.02e-03 9.44e-04h  1\n",
      "   3  4.5696061e+00 0.00e+00 5.26e+02  -1.0 8.66e+00    -  3.58e-03 1.00e+00f  1\n",
      "   4  4.5846881e+00 0.00e+00 8.53e-03  -1.0 1.92e-02    -  9.99e-01 1.00e+00f  1\n",
      "   5  4.3435997e+00 0.00e+00 7.64e-02  -2.5 7.46e-01    -  1.00e+00 6.21e-01f  1\n",
      "   6  4.3474527e+00 0.00e+00 2.83e-08  -2.5 7.31e-03    -  1.00e+00 1.00e+00f  1\n",
      "   7  4.3404208e+00 0.00e+00 1.50e-09  -3.8 8.57e-03    -  1.00e+00 1.00e+00f  1\n",
      "   8  4.3402800e+00 0.00e+00 1.84e-11  -5.7 2.35e-04    -  1.00e+00 1.00e+00f  1\n",
      "   9  4.3402765e+00 0.00e+00 2.51e-14  -8.6 3.56e-06    -  1.00e+00 1.00e+00f  1\n",
      "\n",
      "Number of Iterations....: 9\n",
      "\n",
      "                                   (scaled)                 (unscaled)\n",
      "Objective...............:   4.3402764544332832e+00    4.3402764544332832e+00\n",
      "Dual infeasibility......:   2.5091040356528538e-14    2.5091040356528538e-14\n",
      "Constraint violation....:   0.0000000000000000e+00    0.0000000000000000e+00\n",
      "Complementarity.........:   2.5316935767117637e-09    2.5316935767117637e-09\n",
      "Overall NLP error.......:   2.5316935767117637e-09    2.5316935767117637e-09\n",
      "\n",
      "\n",
      "Number of objective function evaluations             = 10\n",
      "Number of objective gradient evaluations             = 10\n",
      "Number of equality constraint evaluations            = 0\n",
      "Number of inequality constraint evaluations          = 10\n",
      "Number of equality constraint Jacobian evaluations   = 0\n",
      "Number of inequality constraint Jacobian evaluations = 1\n",
      "Number of Lagrangian Hessian evaluations             = 1\n",
      "Total CPU secs in IPOPT (w/o function evaluations)   =      0.003\n",
      "Total CPU secs in NLP function evaluations           =      0.000\n",
      "\n",
      "EXIT: Optimal Solution Found.\n",
      "The optimal x value is: 4.763293459514627\n"
     ]
    }
   ],
   "source": [
    "# minimize the infinity-norm\n",
    "using JuMP\n",
    "m = Model(with_optimizer(Ipopt.Optimizer))\n",
    "@variable(m, x)\n",
    "@variable(m, r)\n",
    "@constraint(m, y-x .<= r )\n",
    "@constraint(m, -r .<= y-x )\n",
    "@objective(m, Min, r )\n",
    "\n",
    "optimize!(m)\n",
    "\n",
    "println(\"The optimal x value is: \", value(x))"
   ]
  },
  {
   "cell_type": "code",
   "execution_count": 6,
   "metadata": {},
   "outputs": [
    {
     "data": {
      "text/plain": [
       "4.7632935"
      ]
     },
     "execution_count": 6,
     "metadata": {},
     "output_type": "execute_result"
    }
   ],
   "source": [
    "(y[1] + y[N])/2"
   ]
  }
 ],
 "metadata": {
  "kernelspec": {
   "display_name": "Julia 1.1.1",
   "language": "julia",
   "name": "julia-1.1"
  },
  "language_info": {
   "file_extension": ".jl",
   "mimetype": "application/julia",
   "name": "julia",
   "version": "1.1.1"
  }
 },
 "nbformat": 4,
 "nbformat_minor": 2
}
