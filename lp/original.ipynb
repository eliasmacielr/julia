{
 "cells": [
  {
   "cell_type": "code",
   "execution_count": 1,
   "metadata": {},
   "outputs": [
    {
     "name": "stdout",
     "output_type": "stream",
     "text": [
      "Max 3 z1 - z2\n",
      "Subject to\n",
      " z2 ≥ -1.0\n",
      " z3 ≥ -1.0\n",
      " z4 ≥ -2.0\n",
      " z2 ≤ 5.0\n",
      " z3 ≤ 5.0\n",
      " z4 ≤ 2.0\n",
      " -z1 + 6 z2 - z3 + z4 ≥ -3.0\n",
      " 7 z2 + z4 ≥ 5.0\n",
      " 7 z2 + z4 ≤ 5.0\n",
      " z3 + z4 ≤ 2.0\n",
      "Valor func objetivo, Max = 25.28571428571428\n",
      "z1 = 8.57142857142857\n",
      "z2 = 0.4285714285714285\n",
      "z3 = -1.0\n",
      "z4 = 2.0\n",
      "Coin0506I Presolve 3 (-1) rows, 3 (-1) columns and 7 (-3) elements\n",
      "Clp0006I 0  Obj 35.971429 Primal inf 2.0261885 (2)\n",
      "Clp0006I 3  Obj 25.285714\n",
      "Clp0000I Optimal - objective value 25.285714\n",
      "Coin0511I After Postsolve, objective 25.285714, infeasibilities - dual 0 (0), primal 0 (0)\n",
      "Clp0032I Optimal objective 25.28571429 - 3 iterations time 0.002, Presolve 0.00\n"
     ]
    }
   ],
   "source": [
    "using JuMP, Clp\n",
    "\n",
    "m = Model(with_optimizer(Clp.Optimizer))\n",
    "\n",
    "@variables(m, begin\n",
    "        z1\n",
    "        -1 <= z2 <= 5\n",
    "        -1 <= z3 <= 5\n",
    "        -2 <= z4 <= 2\n",
    "end)\n",
    "\n",
    "@constraint(m, -z1 + 6*z2 -z3 + z4 >= -3)\n",
    "@constraint(m, 7*z2 + z4 <= 5)\n",
    "@constraint(m, 7*z2 + z4 >= 5)\n",
    "@constraint(m, z3 + z4 <= 2)\n",
    "\n",
    "@objective(m, Max, 3*z1 - z2)\n",
    "\n",
    "print(m)\n",
    "\n",
    "JuMP.optimize!(m)\n",
    "\n",
    "obj_value=JuMP.objective_value(m)\n",
    "z1_value=JuMP.value(z1)\n",
    "z2_value=JuMP.value(z2)\n",
    "z3_value=JuMP.value(z3)\n",
    "z4_value=JuMP.value(z4)\n",
    "\n",
    "println(\"Valor func objetivo, Max = \", obj_value)\n",
    "println(\"z1 = \", z1_value)\n",
    "println(\"z2 = \", z2_value)\n",
    "println(\"z3 = \", z3_value)\n",
    "println(\"z4 = \", z4_value)\n"
   ]
  },
  {
   "cell_type": "code",
   "execution_count": null,
   "metadata": {},
   "outputs": [],
   "source": []
  }
 ],
 "metadata": {
  "kernelspec": {
   "display_name": "Julia 1.1.1",
   "language": "julia",
   "name": "julia-1.1"
  },
  "language_info": {
   "file_extension": ".jl",
   "mimetype": "application/julia",
   "name": "julia",
   "version": "1.1.1"
  }
 },
 "nbformat": 4,
 "nbformat_minor": 2
}
