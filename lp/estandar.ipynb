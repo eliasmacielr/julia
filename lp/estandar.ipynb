{
 "cells": [
  {
   "cell_type": "code",
   "execution_count": 4,
   "metadata": {},
   "outputs": [
    {
     "name": "stdout",
     "output_type": "stream",
     "text": [
      "Min -3 z1 + y2 - 1\n",
      "Subject to\n",
      " z1 ≥ 0.0\n",
      " y2 ≥ 0.0\n",
      " y3 ≥ 0.0\n",
      " y4 ≥ 0.0\n",
      " s1 ≥ 0.0\n",
      " s2 ≥ 0.0\n",
      " y2 ≤ 6.0\n",
      " y3 ≤ 6.0\n",
      " y4 ≤ 4.0\n",
      " -z1 + 6 y2 - y3 + y4 - s1 = 4.0\n",
      " 7 y2 + y4 = 14.0\n",
      " y3 + y4 + s2 = 5.0\n",
      "Valor func objetivo, Min = 25.28571428571429\n",
      "z1 = 8.571428571428571\n",
      "y2 = 1.4285714285714286\n",
      "y3 = 0.0\n",
      "y4 = 4.0\n",
      "s1 = 0.0\n",
      "s2 = 1.0\n",
      "Coin0506I Presolve 0 (-3) rows, 0 (-6) columns and 0 (-10) elements\n",
      "Clp3002W Empty problem - 0 rows, 0 columns and 0 elements\n",
      "Clp0000I Optimal - objective value -24.285714\n",
      "Coin0511I After Postsolve, objective -24.285714, infeasibilities - dual 0 (0), primal 0 (0)\n",
      "Clp0032I Optimal objective -24.28571429 - 0 iterations time 0.002, Presolve 0.00\n"
     ]
    }
   ],
   "source": [
    "using JuMP, Clp\n",
    "\n",
    "m = Model(with_optimizer(Clp.Optimizer))\n",
    "\n",
    "@variables(m, begin\n",
    "        0 <= z1\n",
    "        0 <= y2 <= 6\n",
    "        0 <= y3 <= 6\n",
    "        0 <= y4 <= 4\n",
    "        0 <= s1\n",
    "        0 <= s2\n",
    "end)\n",
    "\n",
    "@constraint(m, - z1 + 6*y2 - y3 + y4 - s1 == 4)\n",
    "@constraint(m, 7*y2 + y4 == 14)\n",
    "@constraint(m, y3 + y4 + s2 == 5)\n",
    "\n",
    "@objective(m, Min, - 3*z1 + y2 - 1)\n",
    "\n",
    "print(m)\n",
    "\n",
    "JuMP.optimize!(m)\n",
    "\n",
    "obj_value=JuMP.objective_value(m)\n",
    "z1_value=JuMP.value(z1)\n",
    "y2_value=JuMP.value(y2)\n",
    "y3_value=JuMP.value(y3)\n",
    "y4_value=JuMP.value(y4)\n",
    "s1_value=JuMP.value(s1)\n",
    "s2_value=JuMP.value(s2)\n",
    "\n",
    "println(\"Valor func objetivo, Min = \", -obj_value)\n",
    "println(\"z1 = \", z1_value)\n",
    "println(\"y2 = \", y2_value)\n",
    "println(\"y3 = \", y3_value)\n",
    "println(\"y4 = \", y4_value)\n",
    "println(\"s1 = \", s1_value)\n",
    "println(\"s2 = \", s2_value)"
   ]
  },
  {
   "cell_type": "code",
   "execution_count": null,
   "metadata": {},
   "outputs": [],
   "source": []
  },
  {
   "cell_type": "code",
   "execution_count": null,
   "metadata": {},
   "outputs": [],
   "source": []
  }
 ],
 "metadata": {
  "kernelspec": {
   "display_name": "Julia 1.1.1",
   "language": "julia",
   "name": "julia-1.1"
  },
  "language_info": {
   "file_extension": ".jl",
   "mimetype": "application/julia",
   "name": "julia",
   "version": "1.1.1"
  }
 },
 "nbformat": 4,
 "nbformat_minor": 2
}
