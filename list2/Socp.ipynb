{
 "cells": [
  {
   "cell_type": "code",
   "execution_count": 1,
   "metadata": {},
   "outputs": [
    {
     "data": {
      "image/png": "[encoded data removed]",
      "text/plain": [
       "Figure(PyObject <Figure size 500x500 with 1 Axes>)"
      ]
     },
     "metadata": {},
     "output_type": "display_data"
    }
   ],
   "source": [
    "using PyPlot, Random\n",
    "\n",
    "Random.seed!(0)\n",
    "\n",
    "x = 2 .+ randn(2, 60)\n",
    "\n",
    "figure(figsize=(5,5))\n",
    "plot(x[1,1:end],x[2,1:end],\"r.\", markersize=5)\n",
    "axis([0,5,minimum(x)-1,maximum(x)+1])\n",
    "grid(\"on\")\n",
    "\n"
   ]
  },
  {
   "cell_type": "code",
   "execution_count": 2,
   "metadata": {},
   "outputs": [
    {
     "name": "stdout",
     "output_type": "stream",
     "text": [
      "r = 3.423959445543377\n",
      "c1 = 1.9444156788876414\n",
      "c2 = 1.9444156788876414\n",
      "----------------------------------------------------------------------------\n",
      "\tSCS v2.0.2 - Splitting Conic Solver\n",
      "\t(c) Brendan O'Donoghue, Stanford University, 2012-2017\n",
      "----------------------------------------------------------------------------\n",
      "Lin-sys: sparse-indirect, nnz in A = 121, CG tol ~ 1/iter^(2.00)\n",
      "eps = 1.00e-05, alpha = 1.50, max_iters = 5000, normalize = 1, scale = 1.00\n",
      "acceleration_lookback = 20, rho_x = 1.00e-03\n",
      "Variables n = 3, constraints m = 61\n",
      "Cones:\tsoc vars: 61, soc blks: 1\n",
      "Setup time: 8.17e-05s\n",
      "----------------------------------------------------------------------------\n",
      " Iter | pri res | dua res | rel gap | pri obj | dua obj | kap/tau | time (s)\n",
      "----------------------------------------------------------------------------\n",
      "     0| 7.59e-01  1.22e+00  9.81e-01 -1.02e+01  4.04e+01  1.93e-14  7.66e-05 \n",
      "    20| 6.76e-11  5.30e-10  4.99e-11  1.17e+01  1.17e+01  5.32e-15  2.38e-02 \n",
      "----------------------------------------------------------------------------\n",
      "Status: Solved\n",
      "Timing: Solve time: 2.38e-02s\n",
      "\tLin-sys: avg # CG iterations: 1.33, avg solve time: 2.49e-06s\n",
      "\tCones: avg projection time: 2.43e-07s\n",
      "\tAcceleration: avg step time: 1.12e-03s\n",
      "----------------------------------------------------------------------------\n",
      "Error metrics:\n",
      "dist(s, K) = 0.0000e+00, dist(y, K*) = 0.0000e+00, s'y/|s||y| = 4.5201e-16\n",
      "primal res: |Ax + s - b|_2 / (1 + |b|_2) = 6.7581e-11\n",
      "dual res:   |A'y + c|_2 / (1 + |c|_2) = 5.3040e-10\n",
      "rel gap:    |c'x + b'y| / (1 + |c'x| + |b'y|) = 4.9888e-11\n",
      "----------------------------------------------------------------------------\n",
      "c'x = 11.7235, -b'y = 11.7235\n",
      "============================================================================\n"
     ]
    }
   ],
   "source": [
    "using SCS, JuMP, ECOS\n",
    "\n",
    "m = Model(with_optimizer(SCS.Optimizer))\n",
    "\n",
    "@variable(m, r)\n",
    "@variable(m, c1)\n",
    "@variable(m, c2)\n",
    "#obtener la menor área que contenga todos los puntos equivale a obtener el menor radio r, donde c1 y c2 son las\n",
    "#coordenadas del centro\n",
    "\n",
    "#@constraint(m, norm(y - A*u) <= t)\n",
    "#@constraint(m, [t; y - A*u] in SecondOrderCone())\n",
    "@constraint(m, [r; (x[1,1:60] - ones(60).*c1) + (x[2,1:60] - ones(60).*c2)] in SecondOrderCone())\n",
    "@objective(m, Min, r)\n",
    "\n",
    "optimize!(m)\n",
    "\n",
    "r_value = JuMP.value(r)\n",
    "c1_value = JuMP.value(c1)\n",
    "c2_value = JuMP.value(c2)\n",
    "\n",
    "println(\"r = \", sqrt(r_value))\n",
    "println(\"c1 = \", c1_value)\n",
    "println(\"c2 = \", c2_value)\n",
    "\n"
   ]
  },
  {
   "cell_type": "code",
   "execution_count": null,
   "metadata": {},
   "outputs": [],
   "source": [
    "using PyPlot\n",
    "rr = sqrt(r_value)\n",
    "theta = LinRange(0,2*pi,500)\n",
    "xx = c1_value .+ rr*sin.(theta)\n",
    "yy = c2_value .+ rr*cos.(theta)\n",
    "\n",
    "figure(figsize=(5, 5))\n",
    "plot(x[1,1:end], x[2,1:end], \"o\", c1_value, c2_value, \"ko\", xx, yy, \"k.-\");\n"
   ]
  },
  {
   "cell_type": "code",
   "execution_count": null,
   "metadata": {},
   "outputs": [],
   "source": []
  }
 ],
 "metadata": {
  "@webio": {
   "lastCommId": null,
   "lastKernelId": null
  },
  "kernelspec": {
   "display_name": "Julia 1.1.1",
   "language": "julia",
   "name": "julia-1.1"
  },
  "language_info": {
   "file_extension": ".jl",
   "mimetype": "application/julia",
   "name": "julia",
   "version": "1.1.1"
  }
 },
 "nbformat": 4,
 "nbformat_minor": 2
}
