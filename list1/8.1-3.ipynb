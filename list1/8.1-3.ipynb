{
 "cells": [
  {
   "cell_type": "code",
   "execution_count": 5,
   "metadata": {},
   "outputs": [
    {
     "name": "stdout",
     "output_type": "stream",
     "text": [
      "Min 3 x11 + 2.7 x12 + 2.9 x21 + 2.8 x22\n",
      "Subject to\n",
      " x11 ≥ 0.0\n",
      " x12 ≥ 0.0\n",
      " x21 ≥ 0.0\n",
      " x22 ≥ 0.0\n",
      " s1 ≥ 0.0\n",
      " s2 ≥ 0.0\n",
      " x11 + x12 + s1 = 5.0\n",
      " x21 + x22 + s2 = 4.0\n",
      " x11 + x21 = 3.0\n",
      " x12 + x22 = 4.0\n",
      "Valor func objetivo, Min = 19.5\n",
      "x11 = 0.0\n",
      "x12 = 4.0\n",
      "x21 = 3.0\n",
      "x22 = 0.0\n",
      "s1 = 1.0\n",
      "s2 = 1.0\n",
      "Coin0506I Presolve 2 (-2) rows, 2 (-4) columns and 4 (-6) elements\n",
      "Clp0006I 0  Obj 19.9 Primal inf 2.999999 (1) Dual inf 0.099999 (1)\n",
      "Clp0000I Optimal - objective value 19.5\n",
      "Coin0511I After Postsolve, objective 19.5, infeasibilities - dual 0 (0), primal 0 (0)\n",
      "Clp0032I Optimal objective 19.5 - 0 iterations time 0.002, Presolve 0.00\n"
     ]
    }
   ],
   "source": [
    "using JuMP, Clp\n",
    "\n",
    "m = Model(with_optimizer(Clp.Optimizer))\n",
    "\n",
    "@variables(m, begin\n",
    "        0 <= x11\n",
    "        0 <= x12\n",
    "        0 <= x21\n",
    "        0 <= x22\n",
    "        0 <= s1\n",
    "        0 <= s2\n",
    "end)\n",
    "\n",
    "@constraint(m, x11 + x12 + s1 == 5)\n",
    "@constraint(m, x21 + x22 + s2 == 4)\n",
    "@constraint(m, x11 + x21 == 3)\n",
    "@constraint(m, x12 + x22 == 4)\n",
    "\n",
    "@objective(m, Min, 3.00*x11 + 2.70*x12 + 2.90*x21 + 2.80*x22)\n",
    "\n",
    "print(m)\n",
    "\n",
    "JuMP.optimize!(m)\n",
    "\n",
    "obj_value=JuMP.objective_value(m)\n",
    "x11_value=JuMP.value(x11)\n",
    "x12_value=JuMP.value(x12)\n",
    "x21_value=JuMP.value(x21)\n",
    "x22_value=JuMP.value(x22)\n",
    "s1_value=JuMP.value(s1)\n",
    "s2_value=JuMP.value(s2)\n",
    "\n",
    "println(\"Valor func objetivo, Min = \", obj_value)\n",
    "println(\"x11 = \", x11_value)\n",
    "println(\"x12 = \", x12_value)\n",
    "println(\"x21 = \", x21_value)\n",
    "println(\"x22 = \", x22_value)\n",
    "println(\"s1 = \", s1_value)\n",
    "println(\"s2 = \", s2_value)"
   ]
  },
  {
   "cell_type": "code",
   "execution_count": null,
   "metadata": {},
   "outputs": [],
   "source": []
  }
 ],
 "metadata": {
  "kernelspec": {
   "display_name": "Julia 1.1.1",
   "language": "julia",
   "name": "julia-1.1"
  },
  "language_info": {
   "file_extension": ".jl",
   "mimetype": "application/julia",
   "name": "julia",
   "version": "1.1.1"
  }
 },
 "nbformat": 4,
 "nbformat_minor": 2
}
