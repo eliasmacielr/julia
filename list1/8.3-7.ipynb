{
 "cells": [
  {
   "cell_type": "code",
   "execution_count": 9,
   "metadata": {},
   "outputs": [
    {
     "name": "stdout",
     "output_type": "stream",
     "text": [
      "Min 800 x11 + 700 x12 + 400 x13 + 600 x21 + 800 x22 + 500 x23\n",
      "Subject to\n",
      " x11 ≥ 0.0\n",
      " x12 ≥ 0.0\n",
      " x13 ≥ 0.0\n",
      " x21 ≥ 0.0\n",
      " x22 ≥ 0.0\n",
      " x23 ≥ 0.0\n",
      " w1 ≥ 0.0\n",
      " w2 ≥ 0.0\n",
      " x11 + x12 + x13 - w1 = 1.0\n",
      " x21 + x22 + x23 - w2 = 1.0\n",
      " x11 + x21 = 1.0\n",
      " x12 + x22 = 1.0\n",
      " x13 + x23 = 1.0\n",
      "Valor func objetivo, Ganancia=1700.0\n",
      "x11 = 0.0\n",
      "x12 = 1.0\n",
      "x13 = 1.0\n",
      "x21 = 1.0\n",
      "x22 = 0.0\n",
      "x23 = 0.0\n",
      "w1 = 1.0\n",
      "w2 = 0.0\n",
      "Coin0506I Presolve 2 (-3) rows, 1 (-7) columns and 2 (-12) elements\n",
      "Clp0006I 0  Obj 1810 Primal inf 0.09999902 (1) Dual inf 99.999999 (1)\n",
      "Clp0000I Optimal - objective value 1700\n",
      "Coin0511I After Postsolve, objective 1700, infeasibilities - dual 0 (0), primal 0 (0)\n",
      "Clp0032I Optimal objective 1700 - 0 iterations time 0.002, Presolve 0.00\n"
     ]
    }
   ],
   "source": [
    "using JuMP, Clp\n",
    "\n",
    "m = Model(with_optimizer(Clp.Optimizer))\n",
    "\n",
    "@variables(m, begin \n",
    "        0 <= x11        # \n",
    "        0 <= x12          \n",
    "        0 <= x13 \n",
    "        0 <= x21 \n",
    "        0 <= x22 \n",
    "        0 <= x23\n",
    "        0 <= w1\n",
    "        0 <= w2\n",
    "       \n",
    "end)  \n",
    "\n",
    "@constraint(m, x11 + x12 + x13 - w1 == 1)        #\n",
    "@constraint(m, x21 + x22 + x23 - w2 == 1) \n",
    "\n",
    "@constraint(m, x11 + x21 == 1) \n",
    "@constraint(m, x12 + x22 == 1) \n",
    "@constraint(m, x13 + x23 == 1) \n",
    "@objective(m, Min, 800*x11 + 700*x12 + 400*x13 + 600*x21 + 800*x22 + 500*x23)           # max ganancia\n",
    "\n",
    "print(m)\n",
    "JuMP.optimize!(m)\n",
    "\n",
    "obj_value=JuMP.objective_value(m)\n",
    "x11_value=JuMP.value(x11)\n",
    "x12_value=JuMP.value(x12)\n",
    "x13_value=JuMP.value(x13)\n",
    "x21_value=JuMP.value(x21)\n",
    "x22_value=JuMP.value(x22)\n",
    "x23_value=JuMP.value(x23)\n",
    "\n",
    "w1_value=JuMP.value(w1)\n",
    "w2_value=JuMP.value(w2)\n",
    "\n",
    "println(\"Valor func objetivo, Ganancia=\", obj_value)\n",
    "println(\"x11 = \", x11_value)\n",
    "println(\"x12 = \", x12_value)\n",
    "println(\"x13 = \", x13_value)\n",
    "println(\"x21 = \", x21_value)\n",
    "println(\"x22 = \", x22_value)\n",
    "println(\"x23 = \", x23_value)\n",
    "println(\"w1 = \", w1_value)\n",
    "println(\"w2 = \", w2_value)\n"
   ]
  },
  {
   "cell_type": "code",
   "execution_count": null,
   "metadata": {},
   "outputs": [],
   "source": []
  },
  {
   "cell_type": "code",
   "execution_count": null,
   "metadata": {},
   "outputs": [],
   "source": []
  }
 ],
 "metadata": {
  "kernelspec": {
   "display_name": "Julia 1.1.1",
   "language": "julia",
   "name": "julia-1.1"
  },
  "language_info": {
   "file_extension": ".jl",
   "mimetype": "application/julia",
   "name": "julia",
   "version": "1.1.1"
  }
 },
 "nbformat": 4,
 "nbformat_minor": 2
}
